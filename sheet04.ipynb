{
 "cells": [
  {
   "cell_type": "markdown",
   "metadata": {},
   "source": [
    "Osnabrück University - A&C: Computational Cognition (Summer Term 2019)"
   ]
  },
  {
   "cell_type": "markdown",
   "metadata": {},
   "source": [
    "# Exercise Sheet 04: Analysis of behavioural data (part 2)"
   ]
  },
  {
   "cell_type": "markdown",
   "metadata": {},
   "source": [
    "## Introduction\n",
    "\n",
    "This week's sheet should be solved and handed in at 14:00 at **Tuesday, May 14, 2019**. If you need help (and Google and other resources were not enough), feel free to contact your tutors. Please push your results to your Github group folder.\n",
    "\n",
    "In this exercise sheet we will have a closer look on the data of Seahaven using analysing techniques like ANOVA, linear regression models and t-tests. For the correct results we will provide you with the finalized data that you only have to read in. Note that especially the data for assignment 2 and 3 underwent some further preprocesing than what we did in the previous exercise."
   ]
  },
  {
   "cell_type": "markdown",
   "metadata": {},
   "source": [
    "## Assignment 0: Peer review for sheet 03 [3 pts]"
   ]
  },
  {
   "cell_type": "markdown",
   "metadata": {},
   "source": [
    "Open an issue in the repository of the groups you have to check. The title of the issue should be your group name (e.g. \"Group1). Comment on what was good and what was bad, the aesthetics and ease of reading the plots, what you would have done differently and how many points you would give them for their solutions.\n",
    "\n",
    "| * |Group 1|Group 2|Group 3|Group 4|Group 5|Group 6|Group 7|Group 8|Group 9|Group 10|Group 11|\n",
    "| ------- | ----- | ----- | ----- | ----- | ----- | ----- | ----- | ----- | ----- | ------ | ------ |\n",
    "| check solutions of group: | 6, 2 | 10, 7  | 1, 6  | 8, 9 | 7, 1 | 9, 8 | 3, 10  | 5, 11  | 4, 3  | 11, 5 | 2, 4  |\n",
    "\n",
    "Please also evaluate nice coding style with up to two points."
   ]
  },
  {
   "cell_type": "code",
   "execution_count": 12,
   "metadata": {},
   "outputs": [],
   "source": [
    "import os\n",
    "import numpy as np\n",
    "import pandas as pd\n",
    "import matplotlib.pyplot as plt\n",
    "import ptitprince as pt\n",
    "import seaborn as sns\n",
    "sns.set()\n",
    "from PIL import Image\n",
    "from scipy import stats\n",
    "from statsmodels.stats.anova import AnovaRM\n",
    "from statsmodels.stats.api import anova_lm\n",
    "from statsmodels.formula.api import ols"
   ]
  },
  {
   "cell_type": "markdown",
   "metadata": {},
   "source": [
    "## Assignment 1: Linear Regression Model Based on Performance and Reaction Time [2 pts]"
   ]
  },
  {
   "cell_type": "markdown",
   "metadata": {},
   "source": [
    "Although the linear regression in the prior exercise sheet (assignment 2.a) does not suggest a relationship between RT and performance (accuracy) for the relative task, we still want to check how much of the performance is explained by the RT. To do so we fit a linear regression model by using the ```ols``` method in the ```statsmodels``` library for both of the time conditions (3sec and Infinite).\n",
    "\n",
    "- Read ```AllData.csv``` into the dataframe ```AllData``` and take only the data of the relative task. \n",
    "- Split the data of the relative task: Create ```SecData``` with the data of the 3sec-condition and ```InfData``` with the data of the Infinite-condition.\n",
    "- For each dataset (SecData, InfData) use the ```statsmodels```’ ```ols``` function to initialise a simple linear regression model. <br> The ```ols``` function takes the following: **ols(\"y ~ X\", df)**, where X is the predictor variable (\"ReactionTime\"), y is the output variable (\"Performance\") and df is the dataframe of the used data.\n",
    "- Have a look on the R-squared values and interpret them.\n",
    "\n",
    "Take a look at the [ols documentation](https://www.statsmodels.org/stable/index.html) and the [patsy documentation](https://patsy.readthedocs.io/en/v0.1.0/formulas.html) to get a feeling how to use the function."
   ]
  },
  {
   "cell_type": "code",
   "execution_count": 20,
   "metadata": {},
   "outputs": [
    {
     "name": "stdout",
     "output_type": "stream",
     "text": [
      "3sec-condition\n",
      "                            OLS Regression Results                            \n",
      "==============================================================================\n",
      "Dep. Variable:            Performance   R-squared:                       0.042\n",
      "Model:                            OLS   Adj. R-squared:                  0.032\n",
      "Method:                 Least Squares   F-statistic:                     4.195\n",
      "Date:                Thu, 09 May 2019   Prob (F-statistic):             0.0433\n",
      "Time:                        15:37:58   Log-Likelihood:                 78.822\n",
      "No. Observations:                  97   AIC:                            -153.6\n",
      "Df Residuals:                      95   BIC:                            -148.5\n",
      "Df Model:                           1                                         \n",
      "Covariance Type:            nonrobust                                         \n",
      "================================================================================\n",
      "                   coef    std err          t      P>|t|      [0.025      0.975]\n",
      "--------------------------------------------------------------------------------\n",
      "Intercept        0.4099      0.065      6.330      0.000       0.281       0.538\n",
      "ReactionTime     0.0750      0.037      2.048      0.043       0.002       0.148\n",
      "==============================================================================\n",
      "Omnibus:                        5.909   Durbin-Watson:                   2.092\n",
      "Prob(Omnibus):                  0.052   Jarque-Bera (JB):                5.938\n",
      "Skew:                           0.604   Prob(JB):                       0.0513\n",
      "Kurtosis:                       2.900   Cond. No.                         13.6\n",
      "==============================================================================\n",
      "\n",
      "Warnings:\n",
      "[1] Standard Errors assume that the covariance matrix of the errors is correctly specified.\n",
      "Infinite-condition\n",
      "                            OLS Regression Results                            \n",
      "==============================================================================\n",
      "Dep. Variable:            Performance   R-squared:                       0.118\n",
      "Model:                            OLS   Adj. R-squared:                  0.109\n",
      "Method:                 Least Squares   F-statistic:                     12.72\n",
      "Date:                Thu, 09 May 2019   Prob (F-statistic):           0.000568\n",
      "Time:                        15:37:58   Log-Likelihood:                 86.422\n",
      "No. Observations:                  97   AIC:                            -168.8\n",
      "Df Residuals:                      95   BIC:                            -163.7\n",
      "Df Model:                           1                                         \n",
      "Covariance Type:            nonrobust                                         \n",
      "================================================================================\n",
      "                   coef    std err          t      P>|t|      [0.025      0.975]\n",
      "--------------------------------------------------------------------------------\n",
      "Intercept        0.4826      0.025     19.197      0.000       0.433       0.533\n",
      "ReactionTime     0.0228      0.006      3.567      0.001       0.010       0.035\n",
      "==============================================================================\n",
      "Omnibus:                        3.385   Durbin-Watson:                   2.165\n",
      "Prob(Omnibus):                  0.184   Jarque-Bera (JB):                2.764\n",
      "Skew:                           0.390   Prob(JB):                        0.251\n",
      "Kurtosis:                       3.275   Cond. No.                         10.2\n",
      "==============================================================================\n",
      "\n",
      "Warnings:\n",
      "[1] Standard Errors assume that the covariance matrix of the errors is correctly specified.\n",
      "<statsmodels.regression.linear_model.RegressionResultsWrapper object at 0x000001E5BFE7B9B0>\n"
     ]
    }
   ],
   "source": [
    "#TODO\n",
    "PATH = os.getcwd()+ '/Data/'\n",
    "AllData = pd.read_csv(PATH + 'AllData.csv')\n",
    "AllData = AllData[AllData['Task'] == 'Relative']\n",
    "SecData = AllData[AllData['Time'] == '3sec']\n",
    "InfData = AllData[AllData['Time'] == 'Infinite']\n",
    "\n",
    "SecLin = ols(\"Performance ~ ReactionTime\", SecData).fit()\n",
    "print('3sec-condition')\n",
    "print(SecLin.summary()) \n",
    "\n",
    "InfLin = ols(\"Performance ~ ReactionTime\", InfData).fit()\n",
    "print('Infinite-condition')\n",
    "print(InfLin.summary()) "
   ]
  },
  {
   "cell_type": "markdown",
   "metadata": {},
   "source": [
    "The R-squared values for both conditions are quite weak, meaning that the Reaction Time does not explain much of the performance."
   ]
  },
  {
   "cell_type": "markdown",
   "metadata": {},
   "source": [
    "## Assignment 2: Testing Task Performance via ANOVA [5 pts]"
   ]
  },
  {
   "cell_type": "markdown",
   "metadata": {},
   "source": [
    "For this assignment we will have a look on the whole data without caring about the different measurements."
   ]
  },
  {
   "cell_type": "markdown",
   "metadata": {},
   "source": [
    "### a) Task Performance [2 pts]"
   ]
  },
  {
   "cell_type": "markdown",
   "metadata": {},
   "source": [
    "Refering to our plots of the prior exercise sheet (assignment 2.b), it is a good idea to have a closer look on the task performance (accuracy) to check if there are some **significant effects, i.e. p < 0.05**. To do so we will first of all visualize the data with a raincloud-plot using ```ptitprince.RainCloud``` as a density estimate and then calculate the ANOVAs. Make sure to run ```pip install ptitprince``` in your activated acc environment beforehand.\n",
    "\n",
    "- Read ```MapPerformances.csv``` into the dataframe ```AllPerformances```.\n",
    "- Make a RainCloud-plot of the tasks (x-axis) and performance (y-axis) for both time conditions (3sec / Infinite). The y-axis should start at 0.25 and end at 0.75.\n",
    "- Have a look at ```help(pt.RainCloud)``` to get an overview of the different parameters that you can modify to create a nice raincloud-plot."
   ]
  },
  {
   "cell_type": "code",
   "execution_count": 21,
   "metadata": {},
   "outputs": [
    {
     "name": "stdout",
     "output_type": "stream",
     "text": [
      "Help on function RainCloud in module ptitprince.PtitPrince:\n",
      "\n",
      "RainCloud(x=None, y=None, hue=None, data=None, order=None, hue_order=None, orient='v', width_viol=0.7, width_box=0.15, palette='Set2', bw=0.2, linewidth=1, cut=0.0, scale='area', jitter=1, move=0.0, offset=None, color=None, ax=None, figsize=(12, 11), pointplot=False, alpha=None, dodge=False)\n",
      "    Draw a Raincloud plot of measure `y` of different categories `x`. Here `x` and `y` different columns of the pandas dataframe `data`.\n",
      "    A raincloud is made of:\n",
      "        1) \"Cloud\", kernel desity estimate, the half of a violinplot.\n",
      "        2) \"Rain\", a stripplot below the cloud\n",
      "        3) \"Umberella\", a boxplot\n",
      "        4) \"Thunder\", a pointplot connecting the mean of the different categories (if `pointplot` is `True`)\n",
      "    Main inputs:\n",
      "        x           categorical data. Iterable, np.array, or dataframe column name if 'data' is specified\n",
      "        y           measure data. Iterable, np.array, or dataframe column name if 'data' is specified\n",
      "        hue         a second categorical data. Use it to obtain different clouds and rainpoints\n",
      "        data        input pandas dataframe\n",
      "        order       list, order of the categorical data\n",
      "        hue_order   list, order of the hue\n",
      "        orient      string, vertical if \"v\" (default), horizontal if \"h\"\n",
      "        width_viol  float, width of the cloud\n",
      "        width_box   float, width of the boxplot\n",
      "        move        float, adjusts rain position to the x-axis (default value 0.)\n",
      "        offset      float, adjusts cloud position to the x-axis\n",
      "\n"
     ]
    }
   ],
   "source": [
    "#help(pt.RainCloud)\n",
    "\n",
    "# Get the data\n",
    "PATH = os.getcwd()+ '/Data/'\n",
    "AllPerformances = pd.read_csv(PATH + 'MapPerformances.csv')\n",
    "\n",
    "# Creating RainCloud plot\n",
    "dx=\"Task\"; dy=\"Performance\"; dz=\"Time\"; ort=\"v\"; pal = \"Set2\"; sigma = .2 #set the parameters of the plot\n",
    "sns.set(style=\"white\",font_scale=1.5)\n",
    "ax=pt.RainCloud(x = dx, y = dy, hue=dz,\n",
    "                data = AllPerformances, \n",
    "                palette = 'Set2', \n",
    "                bw = .1, \n",
    "                alpha = 0.6,\n",
    "                width_viol = .4,\n",
    "                width_box = .1,\n",
    "                figsize = (10,7), orient = 'v',\n",
    "                move = .3)\n",
    "# y is also fine to be at 0.2 and 0.8, according to the tutors"
   ]
  },
  {
   "cell_type": "markdown",
   "metadata": {},
   "source": [
    "Using the data of ```AllPerformances``` we now want to calculate a **two-way ANOVA**. A two-way ANOVA is a statistical test used to determine the effect of two nominal predictor variables (= independent variables) on a continuous outcome variable (= dependent variable).\n",
    "\n",
    "H$_{01}$ = The performance is the same for the different tasks. <br>\n",
    "H$_{02}$ = The performance is the same for the different time conditions. <br>\n",
    "H$_{03}$ = An interaction effect does not exist.\n",
    "\n",
    "- Given the null hypotheses above, what is the outcome variable and what are the predictor variables that you have to use for the two-way ANOVA?\n",
    "- Use ```statsmodels```’ ```ols``` function to create an ordinary least squares model as a precursor to the ANOVA. <br> The ```ols``` function takes the following: **ols(\"y ~ C(X1) * C(X2)\", df)**, where X1 and X2 are the predictor variables, y is the output variable and df is the dataframe of the used data.\n",
    "- With the result of the ols calculate a **type 2** two-way ANOVA using ```statsmodels```’ ```anova_lm```.\n",
    "- Based on the ANOVA table explain which of the null hypotheses can be rejected. What does this outcome tell you?\n",
    "\n",
    "Take a look at the [ols documentation](https://www.statsmodels.org/stable/index.html), the [patsy documentation](https://patsy.readthedocs.io/en/v0.1.0/formulas.html) and the [anova_lm documentation](http://www.statsmodels.org/dev/anova.html) to get a feeling how to use these functions."
   ]
  },
  {
   "cell_type": "code",
   "execution_count": null,
   "metadata": {},
   "outputs": [],
   "source": [
    "# TODO"
   ]
  },
  {
   "cell_type": "markdown",
   "metadata": {},
   "source": [
    "### b) Task Performance: 3sec Condition vs. Infinite Condition [3 pts]"
   ]
  },
  {
   "cell_type": "markdown",
   "metadata": {},
   "source": [
    "Let's take a closer look onto the single time conditions by calculating a **one-way ANOVA** for each time condition (3sec and Infinite). A one-way ANOVA is a statistical test used to determine the effect of one nominal predictor variable (= independent variable) on a continuous outcome variable (= dependent variable). \n",
    "\n",
    "H$_{01}$ = The performance is the same for the different tasks. <br>\n",
    "\n",
    "- Use the data of ```AllPerformances``` and split it: Create ```SecPerformances``` with the data of the 3sec-condition and ```InfPerformances``` with the data of the Infinite-condition.\n",
    "- Given the null hypothesis above, what is the outcome variable and what is the predictor variable that you have to use for the one-way ANOVAs?\n",
    "\n",
    "Do for each dataset (SecPerformances, InfPerformances):\n",
    "\n",
    "- Use ```statsmodels```’ ```ols``` function to create an ordinary least squares model as a precursor to the ANOVA. The ```ols``` function takes the formula <br> The ```ols``` function takes the following: **ols(\"y ~ C(X)\", df)**, where X is the predictor variable, y is the output variable and df is the dataframe of the used data.\n",
    "- With the result of the ols calculate a **type 1** one-way ANOVA using ```statsmodels```’ ```anova_lm```.\n",
    "- Based on the ANOVA table explain if the null hypothesis can be rejected. What does this outcome tell you?\n",
    "\n",
    "Take a look at the [ols documentation](https://www.statsmodels.org/stable/index.html) and the [patsy documentation](https://patsy.readthedocs.io/en/v0.1.0/formulas.html) to get a feeling how to use this function."
   ]
  },
  {
   "cell_type": "code",
   "execution_count": null,
   "metadata": {},
   "outputs": [],
   "source": [
    "# TODO"
   ]
  },
  {
   "cell_type": "markdown",
   "metadata": {},
   "source": [
    "If there is a significant outcome for one of the datasets (SecPerformances or InfPerformances), make a post-hoc paired t-test using this dataset.\n",
    "\n",
    "- Extract the performances for each task (Absolute, Relative, Pointing).\n",
    "- Compare the performances of the different tasks pairwise using ```scipy.stats.ttest_rel```\n",
    "- Why do we need to do further post-hoc tests and what do they tell us?"
   ]
  },
  {
   "cell_type": "code",
   "execution_count": null,
   "metadata": {},
   "outputs": [],
   "source": [
    "# TODO\n",
    "print(\"Absolute - Relative: \"+str(stats.ttest_rel())\n",
    "print(\"Absolute - Pointing: \"+str(stats.ttest_rel())\n",
    "print(\"Relative - Pointing: \"+str(stats.ttest_rel())"
   ]
  },
  {
   "cell_type": "markdown",
   "metadata": {},
   "source": [
    "## Assignment 3: Testing Task Performance via Repeated Measures ANOVA [3 pts]"
   ]
  },
  {
   "cell_type": "markdown",
   "metadata": {},
   "source": [
    "Now we want to take a closer look on the task performance (accuracy) also taking the different measurements into account to check if there are some **significant effects, i.e. p < 0.05**. For this purpose we have the averaged performances over 15 repeated measure subjects for three measurements. We will first of all visualize the averaged performances for each task for the three measurements with a catplot and then calculate a repeated measures ANOVA. \n",
    "\n",
    "- Read ```RepeatedPerformances.csv``` into the dataframe ```RepeatedPerformances```.\n",
    "- Make a catplot (kind='barplot') of the conditions (x-axis) and the performance (y-axis). The y-axis should start at 0 and end at 0.75.\n",
    "- Please note that the conditions in the dataframe correspond to the given \"conditions\" list."
   ]
  },
  {
   "cell_type": "code",
   "execution_count": null,
   "metadata": {},
   "outputs": [],
   "source": [
    "conditions = [\"Absolute - 3sec \",\"Absolute - Infinite\",\"Relative - 3sec \",\"Relative - Infinite\",\"Pointing 3sec\",\"Pointing - Infinite\"]\n",
    "\n",
    "# TODO"
   ]
  },
  {
   "cell_type": "code",
   "execution_count": null,
   "metadata": {},
   "outputs": [],
   "source": [
    "# create a usable dataframe for the following analysis\n",
    "repgroup = RepeatedPerformances.groupby(['Measurement','Subject','Condition'], as_index=False)['Performance'].mean()\n",
    "\n",
    "RepeatedDf = pd.DataFrame(columns={'Measurement','Subject','Task','Time','Performance'})\n",
    "tasks = ['Absolute','Absolute','Relative','Relative','Pointing','Pointing']\n",
    "times = ['3sec','Infinite','3sec','Infinite','3sec','Infinite']\n",
    "for i in range(270):\n",
    "    RepeatedDf = RepeatedDf.append({'Subject':repgroup['Subject'][i],'Measurement':repgroup['Measurement'][i],'Task':tasks[repgroup['Condition'][i]],'Time':times[repgroup['Condition'][i]],'Performance':repgroup['Performance'][i]},ignore_index=True)\n",
    "    "
   ]
  },
  {
   "cell_type": "markdown",
   "metadata": {},
   "source": [
    "Using the data of ```RepeatedDf``` we want to calculate a **(three-way) repeated measures ANOVA**. A (three-way) repeated measures ANOVA in general is a statistical test used to determine the effect of three nominal predictor variables (= within-subject factors) on a continuous outcome variable (= dependent variable). \n",
    "\n",
    "\n",
    "\n",
    "- What is the dependent variable and what are the within-subject factors that you have to use for the repeated measures ANOVA?\n",
    "- Formulate the null hypotheses that the repeated measures ANOVA has to test.\n",
    "- Calculate a repeated measures ANOVA using ```statsmodels```' ```AnovaRM```. \n",
    "- Based on the ANOVA table explain which of the null hypotheses can be rejected. What does this outcome tell you?\n",
    "\n",
    "Take a look at the [ANOVARM documentation](http://www.statsmodels.org/dev/generated/statsmodels.stats.anova.AnovaRM.html#statsmodels.stats.anova.AnovaRM) to get a feeling how to use this function."
   ]
  },
  {
   "cell_type": "code",
   "execution_count": null,
   "metadata": {},
   "outputs": [],
   "source": [
    "# TODO"
   ]
  },
  {
   "cell_type": "markdown",
   "metadata": {},
   "source": [
    "## Assignment 4: Spatial coverage of Seahaven [Bonus]"
   ]
  },
  {
   "cell_type": "markdown",
   "metadata": {},
   "source": [
    "To get a better feeling of the spatial coverage of Seahaven, we can create an overview of the houses that the subjects have seen. With a colormap it is easy to display the spatial coverage in an intuitive way.\n",
    "\n",
    "- Open the image ```map5.png``` as ```SeahavenMap``` and read ```Clicks.csv``` into a dataframe ```NumClicks```.\n",
    "- Draw a solid circle for each house. Use the x- and y-coordinates of ```NumClicks``` for the positioning of the circles.\n",
    "- The column \"clicks\" from ```NumClicks``` displays how many subjects had visited the respective house. Use these click-values to calculate each circle's colour:\n",
    "\n",
    "$CircleColor = cmap((click[i]-min(clicks))/(max(clicks)-min(clicks)))$\n",
    "\n",
    "$clicks$: list/array of all click-values from the dataframe ```NumClicks``` <br>\n",
    "$click[i]$: a certain click-value from the dataframe ```NumClicks``` at position $i$"
   ]
  },
  {
   "cell_type": "code",
   "execution_count": null,
   "metadata": {},
   "outputs": [],
   "source": [
    "# open the files and extract the necessary data\n",
    "# TODO\n",
    "\n",
    "\n",
    "# set everything up to display the Seahaven Map\n",
    "fig = plt.figure(figsize=(15,15))\n",
    "SeahavenMap = SeahavenMap.resize((450,500))\n",
    "ax = plt.subplot2grid((10, 10), (0, 0), colspan=9,rowspan=10)\n",
    "plt.imshow(SeahavenMap, aspect = 'equal')\n",
    "\n",
    "# choose a colormap for the circles that display the houses\n",
    "cmap = plt.cm.get_cmap('Reds')\n",
    "\n",
    "# draw the circles and give them the right color (using the given colormap)\n",
    "# TODO\n",
    "\n",
    "\n",
    "# set everything up to display the Colormap / legend for the circle's colors\n",
    "a=np.outer(np.arange(0,1,0.01),np.ones(3))\n",
    "ax2 = plt.subplot2grid((10, 10), (0, 9),rowspan=10)\n",
    "plt.imshow(a,aspect='auto',cmap='Reds',origin=\"lower\")\n",
    "ax2.get_xaxis().set_ticks([])\n",
    "ax2.get_yaxis().set_ticks(np.linspace(0,99,10))\n",
    "ax2.get_yaxis().set_ticklabels(np.linspace((min(clicks)/64)*100,(max(clicks)/64)*100,10,dtype=int))\n",
    "ax2.yaxis.tick_right()\n",
    "ax2.set_ylabel(\"Percentage of Subjects That Have Seen This House\",rotation=270, fontsize=15, labelpad=20)\n",
    "ax2.yaxis.set_label_position(\"right\")\n",
    "plt.show()"
   ]
  }
 ],
 "metadata": {
  "kernelspec": {
   "display_name": "Python 3",
   "language": "python",
   "name": "python3"
  },
  "language_info": {
   "codemirror_mode": {
    "name": "ipython",
    "version": 3
   },
   "file_extension": ".py",
   "mimetype": "text/x-python",
   "name": "python",
   "nbconvert_exporter": "python",
   "pygments_lexer": "ipython3",
   "version": "3.6.4"
  }
 },
 "nbformat": 4,
 "nbformat_minor": 2
}
